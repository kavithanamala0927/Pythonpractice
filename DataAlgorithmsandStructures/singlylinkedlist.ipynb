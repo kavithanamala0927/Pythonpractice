{
 "cells": [
  {
   "cell_type": "code",
   "execution_count": null,
   "metadata": {},
   "outputs": [],
   "source": [
    "class Node:\n",
    "    def __init__(self, data, nextNode = None):\n",
    "        self.data = data\n",
    "        self.nextNode = nextNode\n",
    "    def getData(self):\n",
    "        return self.data\n",
    "    def setData(self, value):\n",
    "        self.data = value\n",
    "    def getNextNode(self):\n",
    "        return self.nextNode\n",
    "    def setNextNode(self, value):\n",
    "        self.nextNode = value\n",
    "\n",
    "class LinkedList:\n",
    "    def __init__(self, head = None):\n",
    "        self.head = head\n",
    "        self.size = 0\n",
    "    def getSize(self):\n",
    "        return self.size\n",
    "    def insertNode(self, data):\n",
    "        newNode = Node(data, nextNode=self.head)     \n",
    "        self.head = newNode\n",
    "        self.size += 1\n",
    "        return True\n",
    "    def printNodes(self):\n",
    "        current = self.head\n",
    "        while current:\n",
    "            print (current.data)\n",
    "            current = current.getNextNode()\n",
    "    def findNode(self, element):\n",
    "        current = self.head\n",
    "        while current:\n",
    "            if current.data == element:\n",
    "                return True\n",
    "            else:\n",
    "                current = current.getNextNode()\n",
    "            return False\n",
    "\n",
    "                \n",
    "        \n",
    "        \n",
    "    def removeNode(self, element):\n",
    "        current = self.head\n",
    "        previous = None\n",
    "        print (current)\n",
    "        while current:\n",
    "            if current.getData() == element:\n",
    "                if previous:\n",
    "                    previous.setNextNode(current.getNextNode())\n",
    "                else:\n",
    "                    self.head = current.getNextNode()\n",
    "                self.size -= 1\n",
    "                return True\n",
    "            else:\n",
    "                previous = current\n",
    "                current = current.getNextNode()\n",
    "            return False\n",
    "    \n",
    "    def reverseLinkedList(self):        \n",
    "        previous = None\n",
    "        current = self.head\n",
    "        nextNode = current.getNextNode()\n",
    "        \n",
    "        while current:\n",
    "            current.setNextNode(previous)\n",
    "\n",
    "            previous = current\n",
    "            current = nextNode\n",
    "            if nextNode:\n",
    "                nextNode = nextNode.getNextNode()\n",
    "        self.head = previous\n",
    "        \n",
    "    def reverseRecursive(self, node):\n",
    "        #node = self.head\n",
    "        if node.getNextNode() == None:\n",
    "            self.head = node\n",
    "            return\n",
    "        self.reverseRecursive(node.getNextNode())\n",
    "        temp = node.getNextNode()\n",
    "        temp.setNextNode(node)\n",
    "        node.setNextNode(None)\n",
    "        \n",
    "    def middleNode(self):\n",
    "        current = self.head\n",
    "        middle = self.head\n",
    "        length = 0\n",
    "        while current.getNextNode():\n",
    "            print (current)\n",
    "            length += 1\n",
    "            if length%2 == 0:\n",
    "                middle = middle.getNextNode()\n",
    "            current = current.getNextNode()\n",
    "        return middle\n"
   ]
  },
  {
   "cell_type": "code",
   "execution_count": null,
   "metadata": {
    "scrolled": true
   },
   "outputs": [],
   "source": [
    "myList = LinkedList()\n",
    "print (\"Inserting\")\n",
    "myList.insertNode(30)\n",
    "myList.insertNode(50)\n",
    "myList.insertNode(40)\n",
    "myList.insertNode(70)\n",
    "myList.insertNode(80)\n",
    "myList.insertNode(90)\n",
    "print (myList.printNodes())\n",
    "#print (myList.middleNode())\n"
   ]
  },
  {
   "cell_type": "code",
   "execution_count": null,
   "metadata": {},
   "outputs": [],
   "source": [
    "\"\"\"\n",
    "#print(myList.getSize())\n",
    "#print (myList.printNodes())\n",
    "\n",
    "#print (myList.findNode(60))\n",
    "#print (myList.findNode(80))\n",
    "#print (myList.removeNode(90))\n",
    "#print (myList.removeNode(40))\n",
    "#print (myList.removeNode(80))\n",
    "#print (myList.getSize())\n",
    "\n",
    "#myNode = Node(50)\n",
    "#print(myNode.setData(76))\n",
    "#print (myNode.getData())\n",
    "\n",
    "#print(myList.reverseLinkedList())\n",
    "\n",
    "#print(myList.reverse(myList.head))\n",
    "#print (myList.printNodes())\n",
    "\"\"\""
   ]
  },
  {
   "cell_type": "code",
   "execution_count": 34,
   "metadata": {},
   "outputs": [
    {
     "name": "stdout",
     "output_type": "stream",
     "text": [
      "[8, 7, 6, 5, 4, 3, 2, 1]\n"
     ]
    }
   ],
   "source": [
    "def swapping(alist):\n",
    "    left = 0\n",
    "    right = len(alist)-1\n",
    "    while left <= right:\n",
    "            temp = alist[left]\n",
    "            alist[left] = alist[right]\n",
    "            alist[right] =temp \n",
    "            # alist[left],alist[right] = alist[right],alist[left]\n",
    "            left += 1\n",
    "            #print (left)\n",
    "            right -= 1\n",
    "            #print (right)\n",
    "    return (alist)\n",
    "        \n",
    "print(swapping([1,2,3,4,5,6,7,8]))"
   ]
  },
  {
   "cell_type": "code",
   "execution_count": 87,
   "metadata": {},
   "outputs": [
    {
     "name": "stdout",
     "output_type": "stream",
     "text": [
      "6\n"
     ]
    }
   ],
   "source": [
    "alist = [1,2,3,4,5,6]\n",
    "length = len(alist)\n",
    "print (length)"
   ]
  },
  {
   "cell_type": "code",
   "execution_count": 88,
   "metadata": {},
   "outputs": [
    {
     "name": "stdout",
     "output_type": "stream",
     "text": [
      "4 5\n"
     ]
    }
   ],
   "source": [
    "#b =len(alist)\n",
    "if len(alist)%2 == 0:\n",
    "    b = int(len(alist)//2)\n",
    "    print (alist[b],alist[b+1])\n",
    "else:\n",
    "    print (alist[len(alist)//2])"
   ]
  },
  {
   "cell_type": "code",
   "execution_count": null,
   "metadata": {},
   "outputs": [],
   "source": []
  }
 ],
 "metadata": {
  "kernelspec": {
   "display_name": "Python 3",
   "language": "python",
   "name": "python3"
  },
  "language_info": {
   "codemirror_mode": {
    "name": "ipython",
    "version": 3
   },
   "file_extension": ".py",
   "mimetype": "text/x-python",
   "name": "python",
   "nbconvert_exporter": "python",
   "pygments_lexer": "ipython3",
   "version": "3.7.3"
  }
 },
 "nbformat": 4,
 "nbformat_minor": 2
}
