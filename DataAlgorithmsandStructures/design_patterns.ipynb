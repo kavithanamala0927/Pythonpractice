{
 "cells": [
  {
   "cell_type": "code",
   "execution_count": 21,
   "metadata": {},
   "outputs": [
    {
     "name": "stdout",
     "output_type": "stream",
     "text": [
      "Enter a number:1\n",
      "* "
     ]
    }
   ],
   "source": [
    "n = int(input(\"Enter a number:\"))\n",
    "for i in range(0, n):\n",
    "    print(\"*\", end=\" \")\n",
    "    "
   ]
  },
  {
   "cell_type": "code",
   "execution_count": 27,
   "metadata": {},
   "outputs": [
    {
     "name": "stdout",
     "output_type": "stream",
     "text": [
      "Enter a number:5\n",
      "* * * * * \n",
      "* * * * * \n",
      "* * * * * \n",
      "* * * * * \n",
      "* * * * * \n"
     ]
    }
   ],
   "source": [
    "num = int(input(\"Enter a number:\"))\n",
    "for i in range(num):\n",
    "    print (\"* \"* num)\n"
   ]
  },
  {
   "cell_type": "code",
   "execution_count": 29,
   "metadata": {},
   "outputs": [
    {
     "name": "stdout",
     "output_type": "stream",
     "text": [
      "Enter a number:4\n",
      "4 4 4 4 \n",
      "4 4 4 4 \n",
      "4 4 4 4 \n",
      "4 4 4 4 \n"
     ]
    }
   ],
   "source": [
    "num = int(input(\"Enter a number:\"))\n",
    "for i in range(num):\n",
    "    print ((str(num)+\" \")* num)"
   ]
  },
  {
   "cell_type": "code",
   "execution_count": 38,
   "metadata": {},
   "outputs": [
    {
     "name": "stdout",
     "output_type": "stream",
     "text": [
      "Enter a number:10\n",
      "1 1 1 1 1 1 1 1 1 1 \n",
      "2 2 2 2 2 2 2 2 2 2 \n",
      "3 3 3 3 3 3 3 3 3 3 \n",
      "4 4 4 4 4 4 4 4 4 4 \n",
      "5 5 5 5 5 5 5 5 5 5 \n",
      "6 6 6 6 6 6 6 6 6 6 \n",
      "7 7 7 7 7 7 7 7 7 7 \n",
      "8 8 8 8 8 8 8 8 8 8 \n",
      "9 9 9 9 9 9 9 9 9 9 \n",
      "10 10 10 10 10 10 10 10 10 10 \n"
     ]
    }
   ],
   "source": [
    "num = int(input(\"Enter a number:\"))\n",
    "for i in range(num):\n",
    "    print ((str(i+1)+\" \")* num)"
   ]
  },
  {
   "cell_type": "code",
   "execution_count": 39,
   "metadata": {},
   "outputs": [
    {
     "name": "stdout",
     "output_type": "stream",
     "text": [
      "Enter a number:3\n",
      "A A A \n",
      "A A A \n",
      "A A A \n"
     ]
    }
   ],
   "source": [
    "num = int(input(\"Enter a number:\"))\n",
    "for i in range(num):\n",
    "    print (\"A \"* num)"
   ]
  },
  {
   "cell_type": "code",
   "execution_count": 46,
   "metadata": {},
   "outputs": [
    {
     "name": "stdout",
     "output_type": "stream",
     "text": [
      "Enter a number:6\n",
      "A \n",
      "B B \n",
      "C C C \n",
      "D D D D \n",
      "E E E E E \n",
      "F F F F F F \n"
     ]
    }
   ],
   "source": [
    "num = int(input(\"Enter a number:\"))\n",
    "for i in range(num):\n",
    "    print ((chr(65+i)+\" \")*(i+1))"
   ]
  },
  {
   "cell_type": "code",
   "execution_count": 51,
   "metadata": {},
   "outputs": [
    {
     "name": "stdout",
     "output_type": "stream",
     "text": [
      "Enter a number:5\n",
      "* * * * * \n",
      "* * * * \n",
      "* * * \n",
      "* * \n",
      "* \n"
     ]
    }
   ],
   "source": [
    "num = int(input(\"Enter a number:\"))\n",
    "for i in range(num):\n",
    "    print (\"* \"*(num-i))"
   ]
  },
  {
   "cell_type": "code",
   "execution_count": 53,
   "metadata": {},
   "outputs": [
    {
     "name": "stdout",
     "output_type": "stream",
     "text": [
      "Enter a number:5\n",
      "1 2 3 4 5 \n",
      "1 2 3 4 \n",
      "1 2 3 \n",
      "1 2 \n",
      "1 \n"
     ]
    }
   ],
   "source": [
    "num = int(input(\"Enter a number:\"))\n",
    "for i in range(num):\n",
    "    for j in range(num-i):\n",
    "        print (j+1, end=\" \")\n",
    "    print ()"
   ]
  },
  {
   "cell_type": "code",
   "execution_count": 62,
   "metadata": {},
   "outputs": [
    {
     "name": "stdout",
     "output_type": "stream",
     "text": [
      "Enter a number:5\n",
      "    1 \n",
      "   2 2 \n",
      "  3 3 3 \n",
      " 4 4 4 4 \n",
      "5 5 5 5 5 \n"
     ]
    }
   ],
   "source": [
    "n = int(input(\"Enter a number:\"))\n",
    "for i in range(num):\n",
    "    print ((\" \"*(n-i-1))+(str(i+1)+\" \")*(i+1))\n",
    "    "
   ]
  },
  {
   "cell_type": "code",
   "execution_count": 69,
   "metadata": {},
   "outputs": [
    {
     "name": "stdout",
     "output_type": "stream",
     "text": [
      "Enter a number:5\n",
      "     E \n",
      "    E D \n",
      "   E D C \n",
      "  E D C B \n",
      " E D C B A \n"
     ]
    }
   ],
   "source": [
    "num = int(input(\"Enter a number:\"))\n",
    "for i in range(num):\n",
    "    print((\" \")*(n-i-1), end=' ')\n",
    "    for j in range(i+1):\n",
    "        print (chr(64+num-j), end = ' ')\n",
    "    print ()"
   ]
  },
  {
   "cell_type": "code",
   "execution_count": 92,
   "metadata": {},
   "outputs": [
    {
     "name": "stdout",
     "output_type": "stream",
     "text": [
      "Enter a number:6\n",
      "A  \n",
      "A  B  \n",
      "A  B  C  \n",
      "A  B  C  D  \n",
      "A  B  C  D  E  \n",
      "A  B  C  D  E  F  \n",
      "A  B  C  D  E  \n",
      "A  B  C  D  \n",
      "A  B  C  \n",
      "A  B  \n",
      "A  \n"
     ]
    }
   ],
   "source": [
    "n = int(input(\"Enter a number:\"))\n",
    "for i in range(n):\n",
    "    for j in range(i+1):\n",
    "        print (chr(65+j)+\" \", end= \" \")\n",
    "    print ()\n",
    "for p in range(n-1):\n",
    "    for k in range(n-p-1):\n",
    "        print (chr(65+k)+\" \",end=\" \")\n",
    "    print ()\n",
    "\n",
    "        \n",
    "    "
   ]
  },
  {
   "cell_type": "code",
   "execution_count": 98,
   "metadata": {},
   "outputs": [
    {
     "name": "stdout",
     "output_type": "stream",
     "text": [
      "Enter a number:4\n",
      " A B C D \n",
      "  A B C \n",
      "   A B \n",
      "    A \n"
     ]
    }
   ],
   "source": [
    "n = int(input(\"Enter a number:\"))\n",
    "for i in range(n):\n",
    "    print ((\" \")*i,end = \" \")\n",
    "    for j in range(n-i):\n",
    "        print (chr(65+j), end=\" \")\n",
    "    print ()"
   ]
  },
  {
   "cell_type": "code",
   "execution_count": 111,
   "metadata": {},
   "outputs": [
    {
     "name": "stdout",
     "output_type": "stream",
     "text": [
      "Enter input:5\n",
      "    * \n",
      "   * * \n",
      "  * * * \n",
      " * * * * \n",
      "* * * * * \n",
      " * * * * \n",
      "  * * * \n",
      "   * * \n",
      "    * \n"
     ]
    }
   ],
   "source": [
    "n = int(input(\"Enter input:\"))\n",
    "for i in range(n):\n",
    "    print (\" \"*(n-i-1)+\"* \"*(i+1))\n",
    "for i in range(n-1):\n",
    "    print (\" \"*(i+1)+\"* \"*(n-i-1))\n"
   ]
  },
  {
   "cell_type": "code",
   "execution_count": 115,
   "metadata": {},
   "outputs": [
    {
     "name": "stdout",
     "output_type": "stream",
     "text": [
      "Enter input:4\n",
      "* \n",
      "* * \n",
      "* * * \n",
      "* * * * \n",
      "* * * \n",
      "* * \n",
      "* \n"
     ]
    }
   ],
   "source": [
    "n= int(input(\"Enter input:\"))\n",
    "for i in range(n):\n",
    "    print (\"* \"*(i+1))\n",
    "for j in range(n-1):\n",
    "    print (\"* \"*(n-j-1))"
   ]
  },
  {
   "cell_type": "code",
   "execution_count": 128,
   "metadata": {},
   "outputs": [
    {
     "name": "stdout",
     "output_type": "stream",
     "text": [
      "Enter input:4\n",
      "      * \n",
      "    * * \n",
      "  * * * \n",
      "* * * * \n",
      "  * * * \n",
      "    * * \n",
      "      * \n"
     ]
    }
   ],
   "source": [
    "n= int(input(\"Enter input:\"))\n",
    "for i in range(n):\n",
    "    print (\"  \"*(n-i-1)+\"* \"*(i+1))\n",
    "for j in range(n-1):\n",
    "    print (\"  \"*(j+1)+\"* \"*(n-j-1))"
   ]
  },
  {
   "cell_type": "code",
   "execution_count": 138,
   "metadata": {},
   "outputs": [
    {
     "name": "stdout",
     "output_type": "stream",
     "text": [
      "Enter input:6\n",
      "          *  \n",
      "        *    * \n",
      "      *        * \n",
      "    *            * \n",
      "  *                * \n",
      "*                    * \n"
     ]
    }
   ],
   "source": [
    "n= int(input(\"Enter input:\"))\n",
    "for i in range(n):\n",
    "    print (\"  \"*(n-i-1)+\"* \",end=\" \")\n",
    "    if i>=1:\n",
    "        print(\"  \"*(2*i-1)+\"*\",end=\" \")\n",
    "    print()\n"
   ]
  },
  {
   "cell_type": "code",
   "execution_count": 149,
   "metadata": {},
   "outputs": [
    {
     "name": "stdout",
     "output_type": "stream",
     "text": [
      "Enter input:6\n",
      "*                    * \n",
      "  *                * \n",
      "    *            * \n",
      "      *        * \n",
      "        *    * \n",
      "          *  \n"
     ]
    }
   ],
   "source": [
    "n= int(input(\"Enter input:\"))\n",
    "for i in range(n):\n",
    "    print (\"  \"*i+\"* \",end=\" \")\n",
    "    if i != n-1:\n",
    "        print(\"  \"*(2*n-2*i-3)+\"*\",end=\" \")\n",
    "    print()"
   ]
  },
  {
   "cell_type": "code",
   "execution_count": 158,
   "metadata": {},
   "outputs": [
    {
     "name": "stdout",
     "output_type": "stream",
     "text": [
      "Enter input:5\n",
      "A                A  \n",
      "  B            B  \n",
      "    C        C  \n",
      "      D    D  \n",
      "        E  \n"
     ]
    }
   ],
   "source": [
    "n= int(input(\"Enter input:\"))\n",
    "for i in range(n):\n",
    "    print (\"  \"*i+chr(65+i)+\" \",end = \" \")\n",
    "    if i != n-1:\n",
    "        print (\"  \"*(2*n-2*i-3)+chr(65+i)+\" \", end= \" \")\n",
    "    print ()"
   ]
  },
  {
   "cell_type": "code",
   "execution_count": 162,
   "metadata": {},
   "outputs": [
    {
     "name": "stdout",
     "output_type": "stream",
     "text": [
      "Enter input:5\n",
      "         1 \n",
      "       1 2 \n",
      "     1 2 3 \n",
      "   1 2 3 4 \n",
      " 1 2 3 4 5 \n",
      "   1 2 3 4 \n",
      "     1 2 3 \n",
      "       1 2 \n",
      "         1 \n"
     ]
    }
   ],
   "source": [
    "n= int(input(\"Enter input:\"))\n",
    "for i in range(n):\n",
    "    print (\"  \"*(n-i-1), end = \" \")\n",
    "    for j in range(i+1):\n",
    "        print(j+1, end =\" \")\n",
    "    print ()\n",
    "for i in range(n-1):\n",
    "    print (\"  \"*(i+1), end = \" \")\n",
    "    for j in range(n-i-1):\n",
    "        print(j+1, end =\" \")\n",
    "    print ()"
   ]
  },
  {
   "cell_type": "code",
   "execution_count": null,
   "metadata": {},
   "outputs": [],
   "source": []
  }
 ],
 "metadata": {
  "kernelspec": {
   "display_name": "Python 3",
   "language": "python",
   "name": "python3"
  },
  "language_info": {
   "codemirror_mode": {
    "name": "ipython",
    "version": 3
   },
   "file_extension": ".py",
   "mimetype": "text/x-python",
   "name": "python",
   "nbconvert_exporter": "python",
   "pygments_lexer": "ipython3",
   "version": "3.7.3"
  }
 },
 "nbformat": 4,
 "nbformat_minor": 2
}
