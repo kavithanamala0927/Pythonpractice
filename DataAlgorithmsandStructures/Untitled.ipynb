{
 "cells": [
  {
   "cell_type": "code",
   "execution_count": 8,
   "metadata": {},
   "outputs": [],
   "source": [
    "class TreeNode(object): \n",
    "    def __init__(self, val): \n",
    "        self.val = val \n",
    "        self.left = None\n",
    "        self.right = None\n",
    "        self.height = 1\n",
    "  \n",
    "# AVL tree class which supports the  \n",
    "# Insert operation \n",
    "class AVL_Tree(object): \n",
    "  \n",
    "    # Recursive function to insert key in  \n",
    "    # subtree rooted with node and returns \n",
    "    # new root of subtree. \n",
    "    def insert(self, root, key): \n",
    "      \n",
    "        # Step 1 - Perform normal BST \n",
    "        if not root: \n",
    "            return TreeNode(key) \n",
    "        elif key < root.val: \n",
    "            root.left = self.insert(root.left, key) \n",
    "        else: \n",
    "            root.right = self.insert(root.right, key) \n",
    "  \n",
    "        # Step 2 - Update the height of the  \n",
    "        # ancestor node \n",
    "        root.height = 1 + max(self.getHeight(root.left), \n",
    "                           self.getHeight(root.right)) \n",
    "  \n",
    "        # Step 3 - Get the balance factor \n",
    "        balance = self.getBalance(root) \n",
    "        print (balance)\n",
    "    def getHeight(self, root): \n",
    "        if not root: \n",
    "            return 0\n",
    "  \n",
    "        return root.height \n",
    "  \n",
    "    def getBalance(self, root): \n",
    "        if not root: \n",
    "            return 0\n",
    "  \n",
    "        return self.getHeight(root.left) - self.getHeight(root.right) "
   ]
  },
  {
   "cell_type": "code",
   "execution_count": 13,
   "metadata": {},
   "outputs": [
    {
     "name": "stdout",
     "output_type": "stream",
     "text": [
      "Insert:3\n",
      "Insert:2\n",
      "1\n",
      "Insert:1\n"
     ]
    }
   ],
   "source": [
    "avl = AVL_Tree()\n",
    "root = None\n",
    "print(\"Insert:3\")\n",
    "root = avl.insert(root, 3)\n",
    "print(\"Insert:2\")\n",
    "root = avl.insert(root, 2)\n",
    "print(\"Insert:1\")\n",
    "root = avl.insert(root, 1)\n",
    "#print (\"Insert:0\")\n",
    "#root = avl.insert(root, 0)"
   ]
  },
  {
   "cell_type": "code",
   "execution_count": null,
   "metadata": {},
   "outputs": [],
   "source": []
  },
  {
   "cell_type": "code",
   "execution_count": null,
   "metadata": {},
   "outputs": [],
   "source": []
  },
  {
   "cell_type": "code",
   "execution_count": null,
   "metadata": {},
   "outputs": [],
   "source": []
  }
 ],
 "metadata": {
  "kernelspec": {
   "display_name": "Python 3",
   "language": "python",
   "name": "python3"
  },
  "language_info": {
   "codemirror_mode": {
    "name": "ipython",
    "version": 3
   },
   "file_extension": ".py",
   "mimetype": "text/x-python",
   "name": "python",
   "nbconvert_exporter": "python",
   "pygments_lexer": "ipython3",
   "version": "3.7.3"
  }
 },
 "nbformat": 4,
 "nbformat_minor": 2
}
