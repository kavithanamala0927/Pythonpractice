{
 "cells": [
  {
   "cell_type": "code",
   "execution_count": 2,
   "metadata": {},
   "outputs": [],
   "source": [
    "class Node:\n",
    "    def __init__(self, data):\n",
    "        self.data = data\n",
    "        self.left = None\n",
    "        self.right = None\n",
    "\n",
    "class BinarySearchTree:\n",
    "    def __init__(self):\n",
    "        self.root = None \n",
    "    def insert(self, data):\n",
    "        if self.root is None:\n",
    "            self.root = Node(data)\n",
    "        else:\n",
    "            self._insert(data, self.root)\n",
    "    \n",
    "    def _insert(self, data, current_node):\n",
    "        if data < current_node.data:\n",
    "            if current_node.left is None:\n",
    "                current_node.left = Node(data)\n",
    "            else:\n",
    "                self._insert(data, current_node.left)\n",
    "        elif data > current_node.data:\n",
    "            if current_node.right is None:\n",
    "                current_node.right = Node(data)\n",
    "            else:\n",
    "                self._insert(data, current_node.right)\n",
    "        else:\n",
    "            print (\"The value is already present in tree.\")\n",
    "            \n",
    "    def search(self, data):\n",
    "        if self.root:\n",
    "            is_found = self._search(data, self.root)\n",
    "            if is_found:\n",
    "                return True\n",
    "            return False\n",
    "        else:\n",
    "            return None\n",
    "    \n",
    "    def _search(self, data, current_node):\n",
    "        if data < current_node.data and current_node.left:\n",
    "            return self._search(data, current_node.left)\n",
    "        elif data > current_node.data and current_node.right:\n",
    "            return self._search(data, current_node.right)\n",
    "        if data == current_node.data:\n",
    "            return True\n",
    "    \n",
    "    def inorderPrintTree(self):\n",
    "        if self.root:\n",
    "            self._inorderPrintTree(self.root)\n",
    "    def _inorderPrintTree(self, current_node):\n",
    "        if current_node:\n",
    "            self._inorderPrintTree(current_node.left)\n",
    "            print (str(current_node.data))\n",
    "            self._inorderPrintTree(current_node.right)\n",
    "    def propertycheck(self):\n",
    "        if self.root:\n",
    "            is_satisfied = self._is_satisfied(self.root, self.root.data)\n",
    "            if is_satisfied is None:\n",
    "                return True\n",
    "            return False\n",
    "        return True\n",
    "    def _is_satisfied(self, current_node, data):\n",
    "        if current_node.left:\n",
    "            if data > current_node.left.data:\n",
    "                self._is_satisfied(current_node.left, current_node.left.data)\n",
    "            else:\n",
    "                return False\n",
    "        if current_node.right:\n",
    "            if data < current_node.right.data:\n",
    "                self._is_satisfied(current_node.right, current_node.right.data)\n",
    "            else:\n",
    "                return False\n",
    "        \n",
    "            \n",
    "        "
   ]
  },
  {
   "cell_type": "code",
   "execution_count": 4,
   "metadata": {},
   "outputs": [
    {
     "name": "stdout",
     "output_type": "stream",
     "text": [
      "1\n",
      "3\n",
      "6\n",
      "8\n",
      "9\n",
      "10\n",
      "11\n",
      "None\n"
     ]
    }
   ],
   "source": [
    "bst = BinarySearchTree()\n",
    "bst.insert(8)\n",
    "bst.insert(3)\n",
    "bst.insert(10)\n",
    "bst.insert(1)\n",
    "bst.insert(6)\n",
    "bst.insert(9)\n",
    "bst.insert(11)\n",
    "print(bst.inorderPrintTree())\n",
    "\n",
    "#print (bst.propertycheck())"
   ]
  },
  {
   "cell_type": "code",
   "execution_count": 16,
   "metadata": {},
   "outputs": [
    {
     "name": "stdout",
     "output_type": "stream",
     "text": [
      "False\n"
     ]
    }
   ],
   "source": [
    "tree = BinarySearchTree()\n",
    "tree.root = Node(1)\n",
    "tree.root.left = Node(2)\n",
    "tree.root.right = Node(3)\n",
    "print (tree.propertycheck())"
   ]
  },
  {
   "cell_type": "code",
   "execution_count": null,
   "metadata": {},
   "outputs": [],
   "source": []
  }
 ],
 "metadata": {
  "kernelspec": {
   "display_name": "Python 3",
   "language": "python",
   "name": "python3"
  },
  "language_info": {
   "codemirror_mode": {
    "name": "ipython",
    "version": 3
   },
   "file_extension": ".py",
   "mimetype": "text/x-python",
   "name": "python",
   "nbconvert_exporter": "python",
   "pygments_lexer": "ipython3",
   "version": "3.7.3"
  }
 },
 "nbformat": 4,
 "nbformat_minor": 2
}
