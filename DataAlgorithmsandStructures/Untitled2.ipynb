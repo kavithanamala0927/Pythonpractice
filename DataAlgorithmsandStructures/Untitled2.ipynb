{
 "cells": [
  {
   "cell_type": "code",
   "execution_count": null,
   "metadata": {},
   "outputs": [],
   "source": [
    "\n"
   ]
  },
  {
   "cell_type": "code",
   "execution_count": null,
   "metadata": {},
   "outputs": [],
   "source": []
  },
  {
   "cell_type": "code",
   "execution_count": null,
   "metadata": {},
   "outputs": [],
   "source": [
    "\n",
    "def hourglassSum(arr):\n",
    "    sum = 0\n",
    "    for i in range(len(arr)-2):\n",
    "        for j in range(len(arr)-2):\n",
    "            sum = (arr[i][j]+arr[i][j+1]+arr[i][j+2]+\n",
    "                   arr[i+1][j+1]+\n",
    "                   arr[i+2][j]+arr[i+2][j+1]+arr[i+2][j+2])\n",
    "            print (sum)\n",
    "    print (out)\n",
    "arr = [[1,1,1,1,1,1],\n",
    "       [0,0,0,0,0,0],\n",
    "       [1,1,1,1,1,1],\n",
    "       [0,0,0,0,0,0],\n",
    "       [1,1,1,1,1,1],\n",
    "       [0,0,0,0,0,0]\n",
    "      ]\n",
    "result = hourglassSum(arr)\n",
    "print (result)"
   ]
  },
  {
   "cell_type": "code",
   "execution_count": null,
   "metadata": {},
   "outputs": [],
   "source": [
    "def hourglassSum(arr):\n",
    "    sumlist = [] \n",
    "    for i in range(len(arr)-2):\n",
    "        for j in range(len(arr)-2):\n",
    "            total = sumlist.append(arr[i][j:j+3]+\n",
    "                   [arr[i+1][j+1]]+\n",
    "                   arr[i+2][j:j+3])\n",
    "    sumlist = max(sumlist)\n",
    "    out = 0\n",
    "    for i in sumlist:\n",
    "        out += i\n",
    "    return out\n",
    "arr = [[1,0,0,1,1,1],\n",
    "       [0,0,0,0,0,0],\n",
    "       [0,0,1,1,1,1],\n",
    "       [0,0,0,0,0,0],\n",
    "       [1,1,1,1,1,1],\n",
    "       [0,0,0,0,0,0]\n",
    "      ]\n",
    "result = hourglassSum(arr)\n",
    "print (result)"
   ]
  },
  {
   "cell_type": "code",
   "execution_count": null,
   "metadata": {},
   "outputs": [],
   "source": []
  },
  {
   "cell_type": "code",
   "execution_count": 72,
   "metadata": {},
   "outputs": [
    {
     "name": "stdout",
     "output_type": "stream",
     "text": [
      "[2, 1, 0]\n"
     ]
    }
   ],
   "source": [
    "from collections import Counter\n",
    "def sparseArray(a, q):\n",
    "    d = Counter(a)\n",
    "    result = [0]*len(q)\n",
    "    for i in range(len(q)):\n",
    "        if q[i] in d:\n",
    "            result[i] = d[q[i]]\n",
    "    return result\n",
    "a =['ab','ab','bc']\n",
    "q =['ab','bc','ca']\n",
    "print (sparseArray(a,q))"
   ]
  },
  {
   "cell_type": "code",
   "execution_count": 79,
   "metadata": {},
   "outputs": [
    {
     "name": "stdout",
     "output_type": "stream",
     "text": [
      "[0, 0, 0, 0, 0]\n",
      "[100, 100, 0, 0, 0]\n"
     ]
    }
   ],
   "source": [
    "n = 5\n",
    "q = [1, 2, 100]\n",
    "out = [0] * n\n",
    "print (out)\n",
    "start = q[0]\n",
    "end = q[1]\n",
    "value = q[2]\n",
    "for i in range(start-1,end):\n",
    "    out[i] = value\n",
    "print (out)"
   ]
  },
  {
   "cell_type": "code",
   "execution_count": 142,
   "metadata": {},
   "outputs": [
    {
     "name": "stdout",
     "output_type": "stream",
     "text": [
      "200\n"
     ]
    }
   ],
   "source": [
    "def arrayManipulation(n,q):\n",
    "    array = [0]*n\n",
    "    for i in range(len(queries)):\n",
    "        start = queries[i][0]\n",
    "        end = queries[i][1]\n",
    "        value = queries[i][2]\n",
    "        array[start-1] = array[start-1]+value\n",
    "        if end+1 <= n:\n",
    "            array[end] += array[end]-value\n",
    "    summ = maxx = 0\n",
    "    for i in array:\n",
    "        summ += i\n",
    "        if maxx< summ:\n",
    "            maxx = summ\n",
    "    return maxx        \n",
    "                \n",
    "        \n",
    "#nm = input().split()\n",
    "#n = int(nm[0])\n",
    "#m = int(nm[1])\n",
    "#for _ in range(m):\n",
    "#    queries.append(list(map(int, input().rstrip().split())))\n",
    "#print (queries)\n",
    "\n",
    "n=5\n",
    "queries = [[1, 2, 100], [2, 5, 100], [3, 4, 100]]\n",
    "result = arrayManipulation(n, queries)\n",
    "print (result)"
   ]
  },
  {
   "cell_type": "code",
   "execution_count": null,
   "metadata": {},
   "outputs": [],
   "source": [
    "def dynamicArray(n, queries):\n",
    "    seqList = []\n",
    "    for i  in range(n):\n",
    "        seqList.append([])\n",
    "    lastAnswer = 0\n",
    "    result = []\n",
    "    for qt,x,y in queries:\n",
    "        index = (x^lastAnswer)%n\n",
    "        if qt == 1:\n",
    "            seqList[index].append(y)\n",
    "        else:\n",
    "            size = len(seqList[Index])\n",
    "            lastAnswer = seqList[index][y%size]\n",
    "            result.append(lastAnswer)\n",
    "    for i in result:\n",
    "        print (i)\n",
    "    return\n",
    "        \n",
    "    \n",
    "if __name__ == '__main__':\n",
    "\n",
    "    first_multiple_input = input().rstrip().split()\n",
    "\n",
    "    n = int(first_multiple_input[0])\n",
    "\n",
    "    q = int(first_multiple_input[1])\n",
    "\n",
    "    queries = []\n",
    "\n",
    "    for _ in range(q):\n",
    "        queries.append(list(map(int, input().rstrip().split())))\n",
    "    #print (queries)\n",
    "    result = dynamicArray(n, queries)\n",
    "    print (result)"
   ]
  },
  {
   "cell_type": "code",
   "execution_count": null,
   "metadata": {},
   "outputs": [],
   "source": []
  },
  {
   "cell_type": "code",
   "execution_count": null,
   "metadata": {},
   "outputs": [],
   "source": []
  }
 ],
 "metadata": {
  "kernelspec": {
   "display_name": "Python 3",
   "language": "python",
   "name": "python3"
  },
  "language_info": {
   "codemirror_mode": {
    "name": "ipython",
    "version": 3
   },
   "file_extension": ".py",
   "mimetype": "text/x-python",
   "name": "python",
   "nbconvert_exporter": "python",
   "pygments_lexer": "ipython3",
   "version": "3.7.3"
  }
 },
 "nbformat": 4,
 "nbformat_minor": 2
}
