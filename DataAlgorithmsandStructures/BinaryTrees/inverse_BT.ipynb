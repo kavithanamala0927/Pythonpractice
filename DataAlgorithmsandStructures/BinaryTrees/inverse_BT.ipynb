{
 "cells": [
  {
   "cell_type": "code",
   "execution_count": 19,
   "metadata": {},
   "outputs": [],
   "source": [
    "class BinaryTree:\n",
    "    def __init__(self,data):\n",
    "        self.data = data\n",
    "        self.left = None\n",
    "        self.right = None\n",
    "def inverseBinaryTree(root):\n",
    "    if root == None:\n",
    "        return None\n",
    "    root.right, root.left = inverseBinaryTree(root.left), inverseBinaryTree(root.right)\n",
    "    return root\n",
    "\n",
    "def preorderPrint(start, traversal):\n",
    "    \"Root->Left->Right\"\n",
    "    if start:\n",
    "        traversal += str(start.data) + \"-\"\n",
    "        traversal = preorderPrint(start.left, traversal)\n",
    "        traversal = preorderPrint(start.right, traversal)\n",
    "    return traversal"
   ]
  },
  {
   "cell_type": "code",
   "execution_count": 20,
   "metadata": {},
   "outputs": [
    {
     "name": "stdout",
     "output_type": "stream",
     "text": [
      " 3-20-7-8-15-9-\n"
     ]
    }
   ],
   "source": [
    "root = BinaryTree(3)\n",
    "root.left = BinaryTree(9)\n",
    "root.right = BinaryTree(20)\n",
    "root.right.left = BinaryTree(15)\n",
    "root.right.right = BinaryTree(7)\n",
    "root.right.right.right = BinaryTree(8)\n",
    "root = inverseBinaryTree(root)\n",
    "print (preorderPrint(root, \" \"))"
   ]
  },
  {
   "cell_type": "code",
   "execution_count": null,
   "metadata": {},
   "outputs": [],
   "source": []
  },
  {
   "cell_type": "code",
   "execution_count": null,
   "metadata": {},
   "outputs": [],
   "source": []
  }
 ],
 "metadata": {
  "kernelspec": {
   "display_name": "Python 3",
   "language": "python",
   "name": "python3"
  },
  "language_info": {
   "codemirror_mode": {
    "name": "ipython",
    "version": 3
   },
   "file_extension": ".py",
   "mimetype": "text/x-python",
   "name": "python",
   "nbconvert_exporter": "python",
   "pygments_lexer": "ipython3",
   "version": "3.7.3"
  }
 },
 "nbformat": 4,
 "nbformat_minor": 2
}
