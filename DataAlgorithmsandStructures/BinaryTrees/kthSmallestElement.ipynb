{
 "cells": [
  {
   "cell_type": "code",
   "execution_count": 58,
   "metadata": {},
   "outputs": [],
   "source": [
    "class BinaryTree:\n",
    "    def __init__(self, data):\n",
    "        self.data = data\n",
    "        self.left = None\n",
    "        self.right = None\n",
    "def kthSmallestElement(root, k):\n",
    "    ele = inorder(root)\n",
    "    if len(ele) > k:\n",
    "        return ele[k-1]\n",
    "    \n",
    "    \n",
    "def inorder(start, traversal = []):\n",
    "    if start:\n",
    "        traversal = inorder(start.left, traversal)\n",
    "        traversal.append(start.data)\n",
    "        traversal = inorder(start.right, traversal)\n",
    "    return traversal\n",
    "\n",
    "    \n",
    "    "
   ]
  },
  {
   "cell_type": "code",
   "execution_count": 59,
   "metadata": {},
   "outputs": [
    {
     "name": "stdout",
     "output_type": "stream",
     "text": [
      "[1, 2, 3, 4, 5, 6]\n",
      "3\n"
     ]
    }
   ],
   "source": [
    "root = BinaryTree(5)\n",
    "root.left = BinaryTree(3)\n",
    "root.right = BinaryTree(6)\n",
    "root.left.left = BinaryTree(2)\n",
    "root.left.right = BinaryTree(4)\n",
    "root.left.left.left = BinaryTree(1)\n",
    "print (inorder(root))\n",
    "print (kthSmallestElement(root, 3))"
   ]
  },
  {
   "cell_type": "code",
   "execution_count": null,
   "metadata": {},
   "outputs": [],
   "source": []
  },
  {
   "cell_type": "code",
   "execution_count": null,
   "metadata": {},
   "outputs": [],
   "source": []
  }
 ],
 "metadata": {
  "kernelspec": {
   "display_name": "Python 3",
   "language": "python",
   "name": "python3"
  },
  "language_info": {
   "codemirror_mode": {
    "name": "ipython",
    "version": 3
   },
   "file_extension": ".py",
   "mimetype": "text/x-python",
   "name": "python",
   "nbconvert_exporter": "python",
   "pygments_lexer": "ipython3",
   "version": "3.7.3"
  }
 },
 "nbformat": 4,
 "nbformat_minor": 2
}
