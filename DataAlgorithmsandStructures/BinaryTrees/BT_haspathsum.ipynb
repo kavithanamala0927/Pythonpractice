{
 "cells": [
  {
   "cell_type": "code",
   "execution_count": 91,
   "metadata": {},
   "outputs": [],
   "source": [
    "class BinaryTree:\n",
    "    def __init__(self,data):\n",
    "        self.data = data\n",
    "        self.left = None\n",
    "        self.right =  None\n",
    "def hasRootToLeafSum(root,k):\n",
    "    path = False\n",
    "    k -= root.data\n",
    "    if root == None and k == 0:\n",
    "        return True\n",
    "    if k == 0 and root.left is None and root.right is None:\n",
    "        return True\n",
    "    if root.left:\n",
    "        path =  path or hasRootToLeafSum(root.left,k)\n",
    "    if root.right:\n",
    "        path =  path or hasRootToLeafSum(root.right,k)\n",
    "    return path\n",
    "\n",
    "    \n",
    "    "
   ]
  },
  {
   "cell_type": "code",
   "execution_count": 92,
   "metadata": {},
   "outputs": [
    {
     "name": "stdout",
     "output_type": "stream",
     "text": [
      "True\n"
     ]
    }
   ],
   "source": [
    "root = BinaryTree(5)\n",
    "root.left = BinaryTree(4)\n",
    "root.left.left = BinaryTree(11)\n",
    "root.left.left.left = BinaryTree(7)\n",
    "root.left.left.right = BinaryTree(2)\n",
    "root.right = BinaryTree(8)\n",
    "root.right.left = BinaryTree(13)\n",
    "root.right.right = BinaryTree(4)\n",
    "root.right.right.right = BinaryTree(1)\n",
    "print (hasRootToLeafSum(root,22))"
   ]
  },
  {
   "cell_type": "code",
   "execution_count": 97,
   "metadata": {},
   "outputs": [],
   "source": [
    "#Other approach\n",
    "class BinaryTree:\n",
    "    def __init__(self,data):\n",
    "        self.data = data\n",
    "        self.left = None\n",
    "        self.right =  None\n",
    "def haspathSum(root,k):\n",
    "    if root == None:\n",
    "        return False\n",
    "    else:\n",
    "        if root.data == k and root.left == None and root.right == None:\n",
    "            return True\n",
    "        else:\n",
    "            if haspathSum(root.left, k-root.data):\n",
    "                return True\n",
    "            if haspathSum(root.right, k-root.data):\n",
    "                return True\n",
    "    return False"
   ]
  },
  {
   "cell_type": "code",
   "execution_count": 99,
   "metadata": {},
   "outputs": [
    {
     "name": "stdout",
     "output_type": "stream",
     "text": [
      "True\n"
     ]
    }
   ],
   "source": [
    "root = BinaryTree(5)\n",
    "root.left = BinaryTree(4)\n",
    "root.left.left = BinaryTree(11)\n",
    "root.left.left.left = BinaryTree(7)\n",
    "root.left.left.right = BinaryTree(2)\n",
    "root.right = BinaryTree(8)\n",
    "root.right.left = BinaryTree(13)\n",
    "root.right.right = BinaryTree(4)\n",
    "root.right.right.right = BinaryTree(1)\n",
    "print (haspathSum(root,22))"
   ]
  },
  {
   "cell_type": "code",
   "execution_count": null,
   "metadata": {},
   "outputs": [],
   "source": []
  }
 ],
 "metadata": {
  "kernelspec": {
   "display_name": "Python 3",
   "language": "python",
   "name": "python3"
  },
  "language_info": {
   "codemirror_mode": {
    "name": "ipython",
    "version": 3
   },
   "file_extension": ".py",
   "mimetype": "text/x-python",
   "name": "python",
   "nbconvert_exporter": "python",
   "pygments_lexer": "ipython3",
   "version": "3.7.3"
  }
 },
 "nbformat": 4,
 "nbformat_minor": 2
}
