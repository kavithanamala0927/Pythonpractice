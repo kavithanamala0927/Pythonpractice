{
 "cells": [
  {
   "cell_type": "code",
   "execution_count": 15,
   "metadata": {},
   "outputs": [],
   "source": [
    "class BinaryTree:\n",
    "    def __init__(self,data):\n",
    "        self.data = data\n",
    "        self.left = None\n",
    "        self.right = None\n",
    "def isBalanced(root):\n",
    "    if root == None:\n",
    "        return None\n",
    "    left_h = heightoftree(root.left)\n",
    "    right_h = heightoftree(root.right)\n",
    "    if abs(left_h - right_h) <= 1:\n",
    "        return True\n",
    "    else:\n",
    "        return False\n",
    "def heightoftree(start):\n",
    "    if start is None:\n",
    "        return 0\n",
    "    left_height = heightoftree(start.left)\n",
    "    right_height = heightoftree(start.right)\n",
    "    return (1 + max(left_height, right_height))"
   ]
  },
  {
   "cell_type": "code",
   "execution_count": 19,
   "metadata": {},
   "outputs": [
    {
     "name": "stdout",
     "output_type": "stream",
     "text": [
      "True\n"
     ]
    }
   ],
   "source": [
    "root = BinaryTree(3)\n",
    "root.left = BinaryTree(9)\n",
    "root.right = BinaryTree(20)\n",
    "root.left.left = BinaryTree(3)\n",
    "root.left.right = BinaryTree(3)\n",
    "root.left.left.left = BinaryTree(4)\n",
    "root.left.left.right = BinaryTree(4)\n",
    "root.left.right.left = BinaryTree(10)\n",
    "root.left.right.right = BinaryTree(11)\n",
    "root.right.left = BinaryTree(15)\n",
    "root.right.right = BinaryTree(7)\n",
    "print (isBalanced(root))"
   ]
  },
  {
   "cell_type": "code",
   "execution_count": null,
   "metadata": {},
   "outputs": [],
   "source": []
  },
  {
   "cell_type": "code",
   "execution_count": null,
   "metadata": {},
   "outputs": [],
   "source": []
  }
 ],
 "metadata": {
  "kernelspec": {
   "display_name": "Python 3",
   "language": "python",
   "name": "python3"
  },
  "language_info": {
   "codemirror_mode": {
    "name": "ipython",
    "version": 3
   },
   "file_extension": ".py",
   "mimetype": "text/x-python",
   "name": "python",
   "nbconvert_exporter": "python",
   "pygments_lexer": "ipython3",
   "version": "3.7.3"
  }
 },
 "nbformat": 4,
 "nbformat_minor": 2
}
