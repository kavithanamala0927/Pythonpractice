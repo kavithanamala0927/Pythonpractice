{
 "cells": [
  {
   "cell_type": "code",
   "execution_count": 6,
   "metadata": {},
   "outputs": [],
   "source": [
    "class BinaryTree:\n",
    "    def __init__ (self,data):\n",
    "        self.data = data\n",
    "        self.left = None\n",
    "        self.right = None\n",
    "def sumRootToLeafNumbers(root):\n",
    "    return  _sumRootToLeafNumbers(root,0)\n",
    "def _sumRootToLeafNumbers(root,value):\n",
    "    if root is None:\n",
    "        return 0\n",
    "    value = value*10 + root.data\n",
    "    if root.left is None and root.right is None:\n",
    "        return value\n",
    "    return _sumRootToLeafNumbers(root.left,value) + _sumRootToLeafNumbers(root.right, value)\n",
    "    "
   ]
  },
  {
   "cell_type": "code",
   "execution_count": 7,
   "metadata": {},
   "outputs": [
    {
     "data": {
      "text/plain": [
       "3642"
      ]
     },
     "execution_count": 7,
     "metadata": {},
     "output_type": "execute_result"
    }
   ],
   "source": [
    "root = BinaryTree(3)\n",
    "root.left = BinaryTree(9)\n",
    "root.right = BinaryTree(2)\n",
    "root.right.left = BinaryTree(5)\n",
    "root.right.right = BinaryTree(7)\n",
    "root.right.right.right = BinaryTree(8)\n",
    "sumRootToLeafNumbers(root)"
   ]
  },
  {
   "cell_type": "code",
   "execution_count": null,
   "metadata": {},
   "outputs": [],
   "source": []
  }
 ],
 "metadata": {
  "kernelspec": {
   "display_name": "Python 3",
   "language": "python",
   "name": "python3"
  },
  "language_info": {
   "codemirror_mode": {
    "name": "ipython",
    "version": 3
   },
   "file_extension": ".py",
   "mimetype": "text/x-python",
   "name": "python",
   "nbconvert_exporter": "python",
   "pygments_lexer": "ipython3",
   "version": "3.7.3"
  }
 },
 "nbformat": 4,
 "nbformat_minor": 2
}
