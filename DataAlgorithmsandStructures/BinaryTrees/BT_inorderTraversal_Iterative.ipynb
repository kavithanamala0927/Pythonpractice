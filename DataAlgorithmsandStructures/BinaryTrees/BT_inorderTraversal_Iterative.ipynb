{
 "cells": [
  {
   "cell_type": "code",
   "execution_count": 5,
   "metadata": {},
   "outputs": [],
   "source": [
    "class BinaryTree:\n",
    "    def __init__(self,data):\n",
    "        self.data = data\n",
    "        self.left = None\n",
    "        self.right = None\n",
    "\n",
    "def inorderTraversal_iterative(root):\n",
    "    stack = []\n",
    "    current = root\n",
    "    while True:\n",
    "        if current:            \n",
    "            stack.append(current)\n",
    "            current = current.left\n",
    "        elif stack:\n",
    "            current = stack.pop()   \n",
    "            print (current.data,end=\" \")\n",
    "            current = current.right\n",
    "        else:\n",
    "            break\n",
    "    print()\n",
    "\n"
   ]
  },
  {
   "cell_type": "code",
   "execution_count": 6,
   "metadata": {},
   "outputs": [
    {
     "name": "stdout",
     "output_type": "stream",
     "text": [
      "3 5 4 10 9 7 \n"
     ]
    }
   ],
   "source": [
    "root = BinaryTree(10)\n",
    "root.left = BinaryTree(5)\n",
    "root.left.right = BinaryTree(4)\n",
    "root.left.left = BinaryTree(3)\n",
    "root.right = BinaryTree(7)\n",
    "root.right.left = BinaryTree(9)\n",
    "inorderTraversal_iterative(root)"
   ]
  },
  {
   "cell_type": "code",
   "execution_count": null,
   "metadata": {},
   "outputs": [],
   "source": []
  },
  {
   "cell_type": "code",
   "execution_count": null,
   "metadata": {},
   "outputs": [],
   "source": []
  }
 ],
 "metadata": {
  "kernelspec": {
   "display_name": "Python 3",
   "language": "python",
   "name": "python3"
  },
  "language_info": {
   "codemirror_mode": {
    "name": "ipython",
    "version": 3
   },
   "file_extension": ".py",
   "mimetype": "text/x-python",
   "name": "python",
   "nbconvert_exporter": "python",
   "pygments_lexer": "ipython3",
   "version": "3.7.3"
  }
 },
 "nbformat": 4,
 "nbformat_minor": 2
}
