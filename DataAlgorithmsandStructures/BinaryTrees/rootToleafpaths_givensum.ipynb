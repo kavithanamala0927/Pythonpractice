{
 "cells": [
  {
   "cell_type": "code",
   "execution_count": 257,
   "metadata": {},
   "outputs": [],
   "source": [
    "class BinaryTree:\n",
    "    def __init__(self,data):\n",
    "        self.data = data\n",
    "        self.left = None\n",
    "        self.right = None\n",
    "def pathSum(A, B):\n",
    "    paths = []\n",
    "    if A is not None:\n",
    "        path_sum_rec(A, B, [],paths)\n",
    "    return paths\n",
    "\n",
    "def path_sum_rec(root, sum_, curr_path,paths):\n",
    "    if root.left is None and root.right is None:\n",
    "        if sum_ - root.data == 0:\n",
    "            paths.append(curr_path+[root.data])\n",
    "        return    \n",
    "    if root.left:\n",
    "        path_sum_rec(root.left, sum_ - root.data, curr_path + [root.data],paths)\n",
    "    if root.right:\n",
    "        path_sum_rec(root.right, sum_ - root.data, curr_path + [root.data],paths)\n"
   ]
  },
  {
   "cell_type": "code",
   "execution_count": 258,
   "metadata": {},
   "outputs": [
    {
     "name": "stdout",
     "output_type": "stream",
     "text": [
      "[[5, 4, 11, 2], [5, 8, 4, 5]]\n"
     ]
    }
   ],
   "source": [
    "root = BinaryTree(5)  \n",
    "root.left = BinaryTree(4)  \n",
    "root.right = BinaryTree(8)  \n",
    "root.left.left = BinaryTree(11) \n",
    "root.left.left.left = BinaryTree(7)\n",
    "root.left.left.right = BinaryTree(2)\n",
    "root.right.left = BinaryTree(13)\n",
    "root.right.right =BinaryTree(4)\n",
    "root.right.right.left = BinaryTree(5) \n",
    "root.right.right.right = BinaryTree(1)\n",
    "print (pathSum(root,22))"
   ]
  },
  {
   "cell_type": "code",
   "execution_count": null,
   "metadata": {},
   "outputs": [],
   "source": []
  },
  {
   "cell_type": "code",
   "execution_count": null,
   "metadata": {},
   "outputs": [],
   "source": []
  }
 ],
 "metadata": {
  "kernelspec": {
   "display_name": "Python 3",
   "language": "python",
   "name": "python3"
  },
  "language_info": {
   "codemirror_mode": {
    "name": "ipython",
    "version": 3
   },
   "file_extension": ".py",
   "mimetype": "text/x-python",
   "name": "python",
   "nbconvert_exporter": "python",
   "pygments_lexer": "ipython3",
   "version": "3.7.3"
  }
 },
 "nbformat": 4,
 "nbformat_minor": 2
}
