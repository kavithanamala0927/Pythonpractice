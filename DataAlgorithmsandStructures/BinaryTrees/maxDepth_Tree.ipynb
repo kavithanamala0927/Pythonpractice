{
 "cells": [
  {
   "cell_type": "code",
   "execution_count": 1,
   "metadata": {},
   "outputs": [],
   "source": [
    "class BinaryTree:\n",
    "    def __init__(self,data):\n",
    "        self.data = data\n",
    "        self.left = None\n",
    "        self.right = None \n",
    "def maxDepthofTree(root):\n",
    "    if root is None:\n",
    "        return 0\n",
    "    left = maxDepthofTree(root.left)\n",
    "    right = maxDepthofTree(root.right)\n",
    "    return (1 + max(left,right))\n",
    "        \n"
   ]
  },
  {
   "cell_type": "code",
   "execution_count": 2,
   "metadata": {},
   "outputs": [
    {
     "data": {
      "text/plain": [
       "4"
      ]
     },
     "execution_count": 2,
     "metadata": {},
     "output_type": "execute_result"
    }
   ],
   "source": [
    "root = BinaryTree(3)\n",
    "root.left = BinaryTree(9)\n",
    "root.right = BinaryTree(20)\n",
    "root.right.left = BinaryTree(15)\n",
    "root.right.right = BinaryTree(7)\n",
    "root.right.right.right = BinaryTree(8)\n",
    "maxDepthofTree(root)"
   ]
  },
  {
   "cell_type": "code",
   "execution_count": null,
   "metadata": {},
   "outputs": [],
   "source": []
  },
  {
   "cell_type": "code",
   "execution_count": null,
   "metadata": {},
   "outputs": [],
   "source": []
  }
 ],
 "metadata": {
  "kernelspec": {
   "display_name": "Python 3",
   "language": "python",
   "name": "python3"
  },
  "language_info": {
   "codemirror_mode": {
    "name": "ipython",
    "version": 3
   },
   "file_extension": ".py",
   "mimetype": "text/x-python",
   "name": "python",
   "nbconvert_exporter": "python",
   "pygments_lexer": "ipython3",
   "version": "3.7.3"
  }
 },
 "nbformat": 4,
 "nbformat_minor": 2
}
