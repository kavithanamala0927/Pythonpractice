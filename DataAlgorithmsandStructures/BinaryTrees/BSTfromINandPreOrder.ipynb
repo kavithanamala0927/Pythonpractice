{
 "cells": [
  {
   "cell_type": "code",
   "execution_count": 23,
   "metadata": {},
   "outputs": [],
   "source": [
    "class BinaryTree:\n",
    "    def __init__(self, data=None):\n",
    "        self.data = data\n",
    "        self.left = None\n",
    "        self.right = None\n",
    "    def buildTree(self, pre, ino):\n",
    "        if not ino:\n",
    "            return None\n",
    "        root_pos = ino.index(pre[0])\n",
    "        new_node = BinaryTree(pre[0])\n",
    "        new_node.left = self.buildTree(pre[1:root_pos+1], ino[:root_pos])\n",
    "        new_node.right = self.buildTree(pre[root_pos+1:], ino[root_pos+1:])\n",
    "        return new_node\n",
    "    \n",
    "    def inorder(self, root):\n",
    "        if root:\n",
    "            self.inorder(root.left)\n",
    "            print (str(root.data), end = \" \")\n",
    "            self.inorder(root.right)"
   ]
  },
  {
   "cell_type": "code",
   "execution_count": 24,
   "metadata": {},
   "outputs": [
    {
     "name": "stdout",
     "output_type": "stream",
     "text": [
      "4 2 5 1 6 7 3 8 "
     ]
    }
   ],
   "source": [
    "preorder = [1,2,4,5,3,7,6,8]\n",
    "inorder = [4,2,5,1,6,7,3,8]\n",
    "tree = BinaryTree()\n",
    "root = tree.buildTree(preorder, inorder)\n",
    "tree.inorder(root)"
   ]
  },
  {
   "cell_type": "code",
   "execution_count": null,
   "metadata": {},
   "outputs": [],
   "source": []
  },
  {
   "cell_type": "code",
   "execution_count": null,
   "metadata": {},
   "outputs": [],
   "source": []
  }
 ],
 "metadata": {
  "kernelspec": {
   "display_name": "Python 3",
   "language": "python",
   "name": "python3"
  },
  "language_info": {
   "codemirror_mode": {
    "name": "ipython",
    "version": 3
   },
   "file_extension": ".py",
   "mimetype": "text/x-python",
   "name": "python",
   "nbconvert_exporter": "python",
   "pygments_lexer": "ipython3",
   "version": "3.7.3"
  }
 },
 "nbformat": 4,
 "nbformat_minor": 2
}
