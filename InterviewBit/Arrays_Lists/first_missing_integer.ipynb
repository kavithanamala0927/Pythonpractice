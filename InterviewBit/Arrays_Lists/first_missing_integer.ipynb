{
 "cells": [
  {
   "cell_type": "code",
   "execution_count": 35,
   "metadata": {},
   "outputs": [
    {
     "name": "stdout",
     "output_type": "stream",
     "text": [
      "3\n"
     ]
    }
   ],
   "source": [
    "A = [1, 2, 0]\n",
    "l = []\n",
    "for i in A:\n",
    "    if i>0:\n",
    "        l.append(i)\n",
    "\n",
    "if len(A)==0:\n",
    "    print (1)\n",
    "m = max(l)\n",
    "all = [i for i in range(1,m+1)]\n",
    "x = list(set(all) - set(l))\n",
    "if x == []:\n",
    "    print (max(all)+1)\n",
    "else:\n",
    "    print (min(x))\n"
   ]
  },
  {
   "cell_type": "code",
   "execution_count": null,
   "metadata": {},
   "outputs": [],
   "source": []
  },
  {
   "cell_type": "code",
   "execution_count": null,
   "metadata": {},
   "outputs": [],
   "source": []
  }
 ],
 "metadata": {
  "kernelspec": {
   "display_name": "Python 3",
   "language": "python",
   "name": "python3"
  },
  "language_info": {
   "codemirror_mode": {
    "name": "ipython",
    "version": 3
   },
   "file_extension": ".py",
   "mimetype": "text/x-python",
   "name": "python",
   "nbconvert_exporter": "python",
   "pygments_lexer": "ipython3",
   "version": "3.7.3"
  }
 },
 "nbformat": 4,
 "nbformat_minor": 2
}
