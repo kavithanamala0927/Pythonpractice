{
 "cells": [
  {
   "cell_type": "code",
   "execution_count": 1,
   "metadata": {},
   "outputs": [
    {
     "name": "stdout",
     "output_type": "stream",
     "text": [
      "[-1, -20, -6, -4, 5, 8, 7, 3, 30, 40]\n"
     ]
    }
   ],
   "source": [
    "#segregate positive and negative numbers\n",
    "A = [-1,3,8,-4,5,-6,7,-20,30,40]\n",
    "n = len(A)\n",
    "i = 0\n",
    "j = n -1\n",
    "while True:\n",
    "    while (A[i]<0 and i<j):\n",
    "        i += 1\n",
    "    while (A[j]>0 and i<j):\n",
    "        j -= 1\n",
    "    if i<j:\n",
    "        A[i],A[j] = A[j],A[i]\n",
    "        i += 1\n",
    "        j -= 1\n",
    "    else:\n",
    "        break\n",
    "print (A)"
   ]
  },
  {
   "cell_type": "code",
   "execution_count": null,
   "metadata": {},
   "outputs": [],
   "source": []
  }
 ],
 "metadata": {
  "kernelspec": {
   "display_name": "Python 3",
   "language": "python",
   "name": "python3"
  },
  "language_info": {
   "codemirror_mode": {
    "name": "ipython",
    "version": 3
   },
   "file_extension": ".py",
   "mimetype": "text/x-python",
   "name": "python",
   "nbconvert_exporter": "python",
   "pygments_lexer": "ipython3",
   "version": "3.7.3"
  }
 },
 "nbformat": 4,
 "nbformat_minor": 2
}
