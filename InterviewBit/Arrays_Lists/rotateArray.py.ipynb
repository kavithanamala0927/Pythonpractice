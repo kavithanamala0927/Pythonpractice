{
 "cells": [
  {
   "cell_type": "code",
   "execution_count": 309,
   "metadata": {},
   "outputs": [],
   "source": [
    "class Solution:\n",
    "    # @param a : list of integers\n",
    "    # @param b : integer\n",
    "    # @return a list of integers\n",
    "    def rotateArray(self, a, b):\n",
    "        ret = []\n",
    "        length = len(a)\n",
    "        if b > length:\n",
    "            b = b%length\n",
    "            #print(b)\n",
    "        for i in range(b,length):\n",
    "            ret.append(a[i])\n",
    "        for j in range(0,b):\n",
    "            ret.append(a[j])\n",
    "        return ret\n",
    "\n",
    "        "
   ]
  },
  {
   "cell_type": "code",
   "execution_count": 310,
   "metadata": {},
   "outputs": [
    {
     "name": "stdout",
     "output_type": "stream",
     "text": [
      "[5, 14, 34, 42, 63, 17, 25, 39, 61, 97, 55, 33, 96, 62, 32, 98, 77, 35, 14]\n"
     ]
    }
   ],
   "source": [
    "o = Solution()\n",
    "a = [ 14, 5, 14, 34, 42, 63, 17, 25, 39, 61, 97, 55, 33, 96, 62, 32, 98, 77, 35 ]\n",
    "b = 1\n",
    "print (o.rotateArray(a,b))"
   ]
  },
  {
   "cell_type": "code",
   "execution_count": null,
   "metadata": {},
   "outputs": [],
   "source": []
  }
 ],
 "metadata": {
  "kernelspec": {
   "display_name": "Python 3",
   "language": "python",
   "name": "python3"
  },
  "language_info": {
   "codemirror_mode": {
    "name": "ipython",
    "version": 3
   },
   "file_extension": ".py",
   "mimetype": "text/x-python",
   "name": "python",
   "nbconvert_exporter": "python",
   "pygments_lexer": "ipython3",
   "version": "3.7.3"
  }
 },
 "nbformat": 4,
 "nbformat_minor": 2
}
