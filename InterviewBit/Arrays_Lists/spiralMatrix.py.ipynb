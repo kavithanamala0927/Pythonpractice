{
 "cells": [
  {
   "cell_type": "code",
   "execution_count": null,
   "metadata": {},
   "outputs": [],
   "source": [
    "def spiralOrder(A):\n",
    "        start_row = 0\n",
    "        last_row = len(A)-1\n",
    "        start_col = 0\n",
    "        last_col = len(A[0])-1\n",
    "        dir = 0\n",
    "        result = []\n",
    "        \n",
    "        while (start_row<=last_row and start_col<=last_col):\n",
    "            if dir == 0:\n",
    "                for i in range(start_col,last_col+1):\n",
    "                    result.append(A[start_row][i])\n",
    "                start_row += 1\n",
    "                dir = 1\n",
    "            elif dir == 1:\n",
    "                for i in range(start_row,last_row+1):\n",
    "                    result.append(A[i][last_col])\n",
    "                last_col -= 1\n",
    "                dir = 2\n",
    "            elif dir == 2:\n",
    "                for i in range(last_col,start_col-1,-1):\n",
    "                    result.append(A[last_row][i])\n",
    "                last_row -= 1\n",
    "                dir = 3\n",
    "            elif dir == 3:\n",
    "                for i in range(last_row,start_row-1,-1):\n",
    "                    result.append(A[i][start_col])\n",
    "                start_col += 1\n",
    "                dir = 0\n",
    "        return (result)"
   ]
  },
  {
   "cell_type": "code",
   "execution_count": 3,
   "metadata": {},
   "outputs": [
    {
     "name": "stdout",
     "output_type": "stream",
     "text": [
      "[1, 2, 3, 4, 8, 12, 11, 10, 9, 5, 6, 7]\n"
     ]
    }
   ],
   "source": [
    "A=[[1,2,3,4],[5,6,7,8],[9,10,11,12]]\n",
    "print (spiralOrder(A))"
   ]
  },
  {
   "cell_type": "code",
   "execution_count": null,
   "metadata": {},
   "outputs": [],
   "source": []
  }
 ],
 "metadata": {
  "kernelspec": {
   "display_name": "Python 3",
   "language": "python",
   "name": "python3"
  },
  "language_info": {
   "codemirror_mode": {
    "name": "ipython",
    "version": 3
   },
   "file_extension": ".py",
   "mimetype": "text/x-python",
   "name": "python",
   "nbconvert_exporter": "python",
   "pygments_lexer": "ipython3",
   "version": "3.7.3"
  }
 },
 "nbformat": 4,
 "nbformat_minor": 2
}
