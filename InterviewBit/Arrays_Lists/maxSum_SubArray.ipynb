{
 "cells": [
  {
   "cell_type": "code",
   "execution_count": 19,
   "metadata": {},
   "outputs": [],
   "source": [
    "def maxSum_subArray(A):\n",
    "    length = len(A)\n",
    "    max_so_far = A[0]\n",
    "    max_ending = 0\n",
    "    start_index = 0\n",
    "    end_index = 0\n",
    "    for i in range(0,length):\n",
    "        max_ending += A[i]\n",
    "        if max_so_far < max_ending:\n",
    "            max_so_far = max_ending\n",
    "            start_index = s\n",
    "            end_index = i\n",
    "        if max_ending < 0 :\n",
    "            max_ending = 0\n",
    "            s = i+1\n",
    "    return (start_index,end_index,max_so_far)"
   ]
  },
  {
   "cell_type": "code",
   "execution_count": 20,
   "metadata": {},
   "outputs": [
    {
     "name": "stdout",
     "output_type": "stream",
     "text": [
      "(3, 9, 7)\n"
     ]
    }
   ],
   "source": [
    "A = [4,-3,-2,2,3,1,-2,-3,4,2,-6,-3,-1,3,1,2]\n",
    "print (maxSum_subArray(A))"
   ]
  },
  {
   "cell_type": "code",
   "execution_count": null,
   "metadata": {},
   "outputs": [],
   "source": []
  }
 ],
 "metadata": {
  "kernelspec": {
   "display_name": "Python 3",
   "language": "python",
   "name": "python3"
  },
  "language_info": {
   "codemirror_mode": {
    "name": "ipython",
    "version": 3
   },
   "file_extension": ".py",
   "mimetype": "text/x-python",
   "name": "python",
   "nbconvert_exporter": "python",
   "pygments_lexer": "ipython3",
   "version": "3.7.3"
  }
 },
 "nbformat": 4,
 "nbformat_minor": 2
}
