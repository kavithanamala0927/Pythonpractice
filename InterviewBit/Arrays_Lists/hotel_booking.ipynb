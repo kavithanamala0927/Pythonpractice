{
 "cells": [
  {
   "cell_type": "code",
   "execution_count": 20,
   "metadata": {},
   "outputs": [],
   "source": [
    "def hotel_booking(arrival, departure,avaiable_rooms):\n",
    "    merge_arrival_departure = []\n",
    "    for i in range(len(arrival)):\n",
    "        merge_arrival_departure.append((arrival[i],1))\n",
    "        merge_arrival_departure.append((departure[i],0))\n",
    "    merge_arrival_departure.sort()\n",
    "    current_rooms = max_rooms = 0\n",
    "    for i in range(len(merge_arrival_departure)):\n",
    "        if merge_arrival_departure[i][1] == 1:\n",
    "            current_rooms += 1\n",
    "            max_rooms = max(current_rooms,max_rooms)\n",
    "            if max_rooms > avaiable_rooms:\n",
    "                return 0\n",
    "        else:\n",
    "            current_rooms -= 1\n",
    "    return 1"
   ]
  },
  {
   "cell_type": "code",
   "execution_count": 21,
   "metadata": {},
   "outputs": [
    {
     "name": "stdout",
     "output_type": "stream",
     "text": [
      "0\n"
     ]
    }
   ],
   "source": [
    "arrival = [1,3,5]\n",
    "departure = [2,6,8]\n",
    "avaiable_rooms = 1\n",
    "print (hotel_booking(arrival, departure,avaiable_rooms))"
   ]
  },
  {
   "cell_type": "code",
   "execution_count": null,
   "metadata": {},
   "outputs": [],
   "source": []
  }
 ],
 "metadata": {
  "kernelspec": {
   "display_name": "Python 3",
   "language": "python",
   "name": "python3"
  },
  "language_info": {
   "codemirror_mode": {
    "name": "ipython",
    "version": 3
   },
   "file_extension": ".py",
   "mimetype": "text/x-python",
   "name": "python",
   "nbconvert_exporter": "python",
   "pygments_lexer": "ipython3",
   "version": "3.7.3"
  }
 },
 "nbformat": 4,
 "nbformat_minor": 2
}
