{
 "cells": [
  {
   "cell_type": "code",
   "execution_count": 13,
   "metadata": {},
   "outputs": [
    {
     "name": "stdout",
     "output_type": "stream",
     "text": [
      "[2, 1, 4, 3, 5]\n"
     ]
    }
   ],
   "source": [
    "A = [ 5, 1, 3, 2, 4 ]\n",
    "A.sort()\n",
    "for i in range(len(A)-1):\n",
    "    if i%2 == 0:\n",
    "        if A[i] < A[i+1]:\n",
    "            A[i],A[i+1] = A[i+1],A[i]\n",
    "    else:\n",
    "        if  A[i] > A[i+1]:\n",
    "            A[i],A[i+1] = A[i+1],A[i]\n",
    "print (A)\n",
    "    #for j in range(1,len(A),2):\n",
    "     #   if "
   ]
  },
  {
   "cell_type": "code",
   "execution_count": null,
   "metadata": {},
   "outputs": [],
   "source": []
  }
 ],
 "metadata": {
  "kernelspec": {
   "display_name": "Python 3",
   "language": "python",
   "name": "python3"
  },
  "language_info": {
   "codemirror_mode": {
    "name": "ipython",
    "version": 3
   },
   "file_extension": ".py",
   "mimetype": "text/x-python",
   "name": "python",
   "nbconvert_exporter": "python",
   "pygments_lexer": "ipython3",
   "version": "3.7.3"
  }
 },
 "nbformat": 4,
 "nbformat_minor": 2
}
